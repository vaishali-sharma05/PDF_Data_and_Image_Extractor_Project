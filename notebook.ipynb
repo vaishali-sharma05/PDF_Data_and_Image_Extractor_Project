{
 "cells": [
  {
   "cell_type": "code",
   "execution_count": 1,
   "id": "cc2f355f",
   "metadata": {},
   "outputs": [
    {
     "name": "stdout",
     "output_type": "stream",
     "text": [
      "Collecting pdfplumber\n",
      "  Downloading pdfplumber-0.11.4-py3-none-any.whl.metadata (41 kB)\n",
      "Collecting pdfminer.six==20231228 (from pdfplumber)\n",
      "  Downloading pdfminer.six-20231228-py3-none-any.whl.metadata (4.2 kB)\n",
      "Requirement already satisfied: Pillow>=9.1 in c:\\users\\welcome\\anaconda3\\lib\\site-packages (from pdfplumber) (10.3.0)\n",
      "Collecting pypdfium2>=4.18.0 (from pdfplumber)\n",
      "  Downloading pypdfium2-4.30.0-py3-none-win_amd64.whl.metadata (48 kB)\n",
      "Requirement already satisfied: charset-normalizer>=2.0.0 in c:\\users\\welcome\\anaconda3\\lib\\site-packages (from pdfminer.six==20231228->pdfplumber) (2.0.4)\n",
      "Requirement already satisfied: cryptography>=36.0.0 in c:\\users\\welcome\\anaconda3\\lib\\site-packages (from pdfminer.six==20231228->pdfplumber) (42.0.5)\n",
      "Requirement already satisfied: cffi>=1.12 in c:\\users\\welcome\\anaconda3\\lib\\site-packages (from cryptography>=36.0.0->pdfminer.six==20231228->pdfplumber) (1.16.0)\n",
      "Requirement already satisfied: pycparser in c:\\users\\welcome\\anaconda3\\lib\\site-packages (from cffi>=1.12->cryptography>=36.0.0->pdfminer.six==20231228->pdfplumber) (2.21)\n",
      "Downloading pdfplumber-0.11.4-py3-none-any.whl (59 kB)\n",
      "Downloading pdfminer.six-20231228-py3-none-any.whl (5.6 MB)\n",
      "   ---------------------------------------- 0.0/5.6 MB ? eta -:--:--\n",
      "   --------- ------------------------------ 1.3/5.6 MB 8.4 MB/s eta 0:00:01\n",
      "   ---------------------- ----------------- 3.1/5.6 MB 7.7 MB/s eta 0:00:01\n",
      "   --------------------------------- ------ 4.7/5.6 MB 7.5 MB/s eta 0:00:01\n",
      "   ---------------------------------------  5.5/5.6 MB 7.5 MB/s eta 0:00:01\n",
      "   ---------------------------------------- 5.6/5.6 MB 5.7 MB/s eta 0:00:00\n",
      "Downloading pypdfium2-4.30.0-py3-none-win_amd64.whl (2.9 MB)\n",
      "   ---------------------------------------- 0.0/2.9 MB ? eta -:--:--\n",
      "   --------------------- ------------------ 1.6/2.9 MB 7.6 MB/s eta 0:00:01\n",
      "   ---------------------------------------  2.9/2.9 MB 6.7 MB/s eta 0:00:01\n",
      "   ---------------------------------------  2.9/2.9 MB 6.7 MB/s eta 0:00:01\n",
      "   ---------------------------------------- 2.9/2.9 MB 3.8 MB/s eta 0:00:00\n",
      "Installing collected packages: pypdfium2, pdfminer.six, pdfplumber\n",
      "Successfully installed pdfminer.six-20231228 pdfplumber-0.11.4 pypdfium2-4.30.0\n",
      "Note: you may need to restart the kernel to use updated packages.\n"
     ]
    }
   ],
   "source": [
    "pip install pdfplumber"
   ]
  },
  {
   "cell_type": "code",
   "execution_count": 39,
   "id": "7ec22a4e",
   "metadata": {},
   "outputs": [
    {
     "name": "stdout",
     "output_type": "stream",
     "text": [
      "All tables saved to All_Table.xlsx\n"
     ]
    }
   ],
   "source": [
    "import pdfplumber\n",
    "import pandas as pd\n",
    "\n",
    "pdf_path = 'Test_Data.pdf'  # Replace with the actual path to your PDF file\n",
    "\n",
    "# Create an empty DataFrame to hold all extracted tables\n",
    "master_df = pd.DataFrame()\n",
    "\n",
    "# Loop through pages, extract data, and append to the master DataFrame\n",
    "with pdfplumber.open(pdf_path) as pdf:\n",
    "    num_pages = len(pdf.pages)\n",
    "    \n",
    "    for page_number in range(num_pages):\n",
    "        page = pdf.pages[page_number]\n",
    "        table = page.extract_table()     # This function returns None if no table is found.\n",
    "        \n",
    "        if table:\n",
    "            # Convert the extracted table into a pandas DataFrame\n",
    "            df = pd.DataFrame(table)\n",
    "\n",
    "            # Concatenate the DataFrame to the master DataFrame\n",
    "            master_df = pd.concat([master_df, df], ignore_index=True)\n",
    "        else:\n",
    "            print(f\"No table found on page {page_number + 1}\")\n",
    "            \n",
    "# Save the master DataFrame to an Excel file\n",
    "excel_filename = 'All_Table.xlsx'\n",
    "master_df.to_excel(excel_filename, index=False)\n",
    "\n",
    "print(f\"All tables saved to {excel_filename}\")\n"
   ]
  },
  {
   "cell_type": "code",
   "execution_count": 35,
   "id": "3a454534",
   "metadata": {},
   "outputs": [
    {
     "name": "stdout",
     "output_type": "stream",
     "text": [
      "Extracted text saved to extracted_text.txt\n"
     ]
    }
   ],
   "source": [
    "import pdfplumber\n",
    "\n",
    "pdf_path = 'Test_Data.pdf'  # Replace with the actual path to your PDF file\n",
    "\n",
    "# Create a text file to hold the extracted text\n",
    "text_filename = 'extracted_text.txt'\n",
    "\n",
    "# Loop through pages, extract text, and append to the text file\n",
    "with pdfplumber.open(pdf_path) as pdf:\n",
    "    num_pages = len(pdf.pages)\n",
    "    \n",
    "    with open(text_filename, 'w', encoding='utf-8') as text_file:\n",
    "        for page_number in range(num_pages):\n",
    "            page = pdf.pages[page_number]\n",
    "            text = page.extract_text()\n",
    "            \n",
    "            text_file.write(f\"Page {page_number + 1}:\\n\")\n",
    "            text_file.write(text)\n",
    "            text_file.write(\"\\n\\n\")\n",
    "\n",
    "print(f\"Extracted text saved to {text_filename}\")"
   ]
  },
  {
   "cell_type": "code",
   "execution_count": 7,
   "id": "ac22e4f5",
   "metadata": {},
   "outputs": [
    {
     "name": "stdout",
     "output_type": "stream",
     "text": [
      "Collecting PyMuPDF\n",
      "  Downloading PyMuPDF-1.24.10-cp311-none-win_amd64.whl.metadata (3.4 kB)\n",
      "Collecting PyMuPDFb==1.24.10 (from PyMuPDF)\n",
      "  Downloading PyMuPDFb-1.24.10-py3-none-win_amd64.whl.metadata (1.4 kB)\n",
      "Downloading PyMuPDF-1.24.10-cp311-none-win_amd64.whl (3.2 MB)\n",
      "   ---------------------------------------- 0.0/3.2 MB ? eta -:--:--\n",
      "   ------------------- -------------------- 1.6/3.2 MB 7.6 MB/s eta 0:00:01\n",
      "   ---------------------------------------  3.1/3.2 MB 7.4 MB/s eta 0:00:01\n",
      "   ---------------------------------------  3.1/3.2 MB 7.4 MB/s eta 0:00:01\n",
      "   ---------------------------------------- 3.2/3.2 MB 4.6 MB/s eta 0:00:00\n",
      "Downloading PyMuPDFb-1.24.10-py3-none-win_amd64.whl (13.2 MB)\n",
      "   ---------------------------------------- 0.0/13.2 MB ? eta -:--:--\n",
      "   ---- ----------------------------------- 1.6/13.2 MB 7.6 MB/s eta 0:00:02\n",
      "   --------- ------------------------------ 3.1/13.2 MB 7.4 MB/s eta 0:00:02\n",
      "   -------------- ------------------------- 4.7/13.2 MB 7.3 MB/s eta 0:00:02\n",
      "   ------------------- -------------------- 6.3/13.2 MB 7.3 MB/s eta 0:00:01\n",
      "   ----------------------- ---------------- 7.9/13.2 MB 7.3 MB/s eta 0:00:01\n",
      "   ---------------------------- ----------- 9.4/13.2 MB 7.3 MB/s eta 0:00:01\n",
      "   -------------------------------- ------- 10.7/13.2 MB 7.2 MB/s eta 0:00:01\n",
      "   ------------------------------------- -- 12.3/13.2 MB 7.2 MB/s eta 0:00:01\n",
      "   ---------------------------------------  13.1/13.2 MB 7.2 MB/s eta 0:00:01\n",
      "   ---------------------------------------- 13.2/13.2 MB 6.3 MB/s eta 0:00:00\n",
      "Installing collected packages: PyMuPDFb, PyMuPDF\n",
      "Successfully installed PyMuPDF-1.24.10 PyMuPDFb-1.24.10\n",
      "Note: you may need to restart the kernel to use updated packages.\n"
     ]
    }
   ],
   "source": [
    "pip install PyMuPDF"
   ]
  },
  {
   "cell_type": "code",
   "execution_count": 11,
   "id": "39f8fbbb",
   "metadata": {},
   "outputs": [
    {
     "name": "stdout",
     "output_type": "stream",
     "text": [
      "Requirement already satisfied: PyMuPDF in c:\\users\\welcome\\anaconda3\\lib\\site-packages (1.24.10)\n",
      "Requirement already satisfied: PyMuPDFb==1.24.10 in c:\\users\\welcome\\anaconda3\\lib\\site-packages (from PyMuPDF) (1.24.10)\n",
      "Note: you may need to restart the kernel to use updated packages.\n"
     ]
    }
   ],
   "source": [
    "pip install PyMuPDF"
   ]
  },
  {
   "cell_type": "code",
   "execution_count": 15,
   "id": "7c285d5d",
   "metadata": {},
   "outputs": [
    {
     "name": "stdout",
     "output_type": "stream",
     "text": [
      "Images extracted and saved successfully.\n"
     ]
    }
   ],
   "source": [
    "import fitz\n",
    "import os\n",
    "\n",
    "pdf_path = 'Test_Data.pdf'  # Replace with the actual path to your PDF file\n",
    "\n",
    "# Create a folder to save the extracted images\n",
    "image_folder = 'extracted_images'\n",
    "if not os.path.exists(image_folder):\n",
    "    os.makedirs(image_folder)\n",
    "\n",
    "# Open the PDF file\n",
    "pdf_document = fitz.open(pdf_path)\n",
    "\n",
    "# Loop through pages, extract images, and save them\n",
    "for page_number in range(pdf_document.page_count):\n",
    "    page = pdf_document[page_number]\n",
    "    image_list = page.get_images(full=True)\n",
    "    \n",
    "    for img_index, img in enumerate(image_list):\n",
    "        xref = img[0]\n",
    "        base_image = pdf_document.extract_image(xref)\n",
    "        image_bytes = base_image[\"image\"]\n",
    "        \n",
    "        # Save the image\n",
    "        image_filename = f\"{image_folder}/page_{page_number + 1}img{img_index + 1}.png\"\n",
    "        with open(image_filename, \"wb\") as image_file:\n",
    "            image_file.write(image_bytes)\n",
    "\n",
    "pdf_document.close()\n",
    "\n",
    "print(\"Images extracted and saved successfully.\")"
   ]
  },
  {
   "cell_type": "code",
   "execution_count": 17,
   "id": "714a0d0c",
   "metadata": {},
   "outputs": [
    {
     "name": "stdout",
     "output_type": "stream",
     "text": [
      "Pages converted to images and saved successfully.\n"
     ]
    }
   ],
   "source": [
    "#(Page-to-Image Conversion)extracted_images\n",
    "import fitz\n",
    "import os\n",
    "\n",
    "pdf_path = 'Test_Data.pdf'  # Replace with the actual path to your PDF file\n",
    "\n",
    "# Create a folder to save the extracted images\n",
    "image_folder = 'extracted_images'\n",
    "if not os.path.exists(image_folder):\n",
    "    os.makedirs(image_folder)\n",
    "\n",
    "# Open the PDF file\n",
    "pdf_document = fitz.open(pdf_path)\n",
    "\n",
    "# Loop through pages, convert pages to images, and save images\n",
    "for page_number in range(pdf_document.page_count):\n",
    "    page = pdf_document[page_number]\n",
    "    \n",
    "    # Convert the page to a pixmap\n",
    "    pixmap = page.get_pixmap(matrix=fitz.Matrix(2, 2))  # You can adjust the matrix scale as needed\n",
    "    \n",
    "    # Save the pixmap as an image\n",
    "    image_filename = f\"{image_folder}/page_{page_number + 1}.png\"\n",
    "    pixmap.save(image_filename, \"png\")\n",
    "\n",
    "pdf_document.close()\n",
    "\n",
    "print(\"Pages converted to images and saved successfully.\")"
   ]
  },
  {
   "cell_type": "code",
   "execution_count": null,
   "id": "a6114958",
   "metadata": {},
   "outputs": [],
   "source": []
  }
 ],
 "metadata": {
  "kernelspec": {
   "display_name": "Python 3 (ipykernel)",
   "language": "python",
   "name": "python3"
  },
  "language_info": {
   "codemirror_mode": {
    "name": "ipython",
    "version": 3
   },
   "file_extension": ".py",
   "mimetype": "text/x-python",
   "name": "python",
   "nbconvert_exporter": "python",
   "pygments_lexer": "ipython3",
   "version": "3.11.7"
  }
 },
 "nbformat": 4,
 "nbformat_minor": 5
}
